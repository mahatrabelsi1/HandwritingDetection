{
  "nbformat": 4,
  "nbformat_minor": 0,
  "metadata": {
    "colab": {
      "provenance": [],
      "mount_file_id": "169LU9W-2OhwWIyRT81e6lJ-OODsxWXfX",
      "authorship_tag": "ABX9TyO4NNV5ujmZLYe98NlpFlKQ",
      "include_colab_link": true
    },
    "kernelspec": {
      "name": "python3",
      "display_name": "Python 3"
    },
    "language_info": {
      "name": "python"
    }
  },
  "cells": [
    {
      "cell_type": "markdown",
      "metadata": {
        "id": "view-in-github",
        "colab_type": "text"
      },
      "source": [
        "<a href=\"https://colab.research.google.com/github/mahatrabelsi1/HandwritingDetection/blob/main/HandwritingDetection.ipynb\" target=\"_parent\"><img src=\"https://colab.research.google.com/assets/colab-badge.svg\" alt=\"Open In Colab\"/></a>"
      ]
    },
    {
      "cell_type": "code",
      "source": [
        "%pip install Matplotlib"
      ],
      "metadata": {
        "colab": {
          "base_uri": "https://localhost:8080/"
        },
        "id": "YWJGQR_o20Qk",
        "outputId": "5660059a-17d4-4026-ab34-970f0e989f21"
      },
      "execution_count": null,
      "outputs": [
        {
          "output_type": "stream",
          "name": "stdout",
          "text": [
            "Requirement already satisfied: Matplotlib in /usr/local/lib/python3.10/dist-packages (3.7.1)\n",
            "Requirement already satisfied: contourpy>=1.0.1 in /usr/local/lib/python3.10/dist-packages (from Matplotlib) (1.3.0)\n",
            "Requirement already satisfied: cycler>=0.10 in /usr/local/lib/python3.10/dist-packages (from Matplotlib) (0.12.1)\n",
            "Requirement already satisfied: fonttools>=4.22.0 in /usr/local/lib/python3.10/dist-packages (from Matplotlib) (4.54.1)\n",
            "Requirement already satisfied: kiwisolver>=1.0.1 in /usr/local/lib/python3.10/dist-packages (from Matplotlib) (1.4.7)\n",
            "Requirement already satisfied: numpy>=1.20 in /usr/local/lib/python3.10/dist-packages (from Matplotlib) (1.26.4)\n",
            "Requirement already satisfied: packaging>=20.0 in /usr/local/lib/python3.10/dist-packages (from Matplotlib) (24.1)\n",
            "Requirement already satisfied: pillow>=6.2.0 in /usr/local/lib/python3.10/dist-packages (from Matplotlib) (10.4.0)\n",
            "Requirement already satisfied: pyparsing>=2.3.1 in /usr/local/lib/python3.10/dist-packages (from Matplotlib) (3.2.0)\n",
            "Requirement already satisfied: python-dateutil>=2.7 in /usr/local/lib/python3.10/dist-packages (from Matplotlib) (2.8.2)\n",
            "Requirement already satisfied: six>=1.5 in /usr/local/lib/python3.10/dist-packages (from python-dateutil>=2.7->Matplotlib) (1.16.0)\n"
          ]
        }
      ]
    },
    {
      "cell_type": "code",
      "execution_count": null,
      "metadata": {
        "id": "ZmDeH3r81-xn"
      },
      "outputs": [],
      "source": [
        "import matplotlib as mp\n",
        "import tensorflow as tf\n",
        "from tensorflow.keras.datasets import mnist"
      ]
    },
    {
      "cell_type": "code",
      "source": [
        "from tensorflow.keras.datasets import mnist\n",
        "from tensorflow.keras.utils import to_categorical\n",
        "\n",
        "# Step 1: Load the data\n",
        "(train_images, train_labels), (test_images, test_labels) = mnist.load_data()\n",
        "\n",
        "# Step 2: Preprocess the data\n",
        "train_images = train_images.reshape((train_images.shape[0], 28, 28, 1)).astype('float32') / 255\n",
        "test_images = test_images.reshape((test_images.shape[0], 28, 28, 1)).astype('float32') / 255\n",
        "\n",
        "# Step 3: Convert labels to one-hot encoding\n",
        "train_labels = to_categorical(train_labels, 10)  # 10 classes (digits 0-9)\n",
        "test_labels = to_categorical(test_labels, 10)\n",
        "\n",
        "# Now proceed with model initialization, compilation, and training...\n",
        "from tensorflow.keras.models import Sequential\n",
        "from tensorflow.keras.layers import Conv2D, MaxPooling2D, Flatten, Dense, Dropout\n",
        "\n",
        "# Step 4: Initialize the model\n",
        "model = Sequential()\n",
        "\n",
        "# Add layers\n",
        "model.add(Conv2D(32, (3, 3), activation='relu', input_shape=(28, 28, 1)))\n",
        "model.add(MaxPooling2D(pool_size=(2, 2)))\n",
        "model.add(Conv2D(64, (3, 3), activation='relu'))\n",
        "model.add(MaxPooling2D(pool_size=(2, 2)))\n",
        "model.add(Flatten())\n",
        "model.add(Dense(128, activation='relu'))\n",
        "model.add(Dropout(0.5))\n",
        "model.add(Dense(10, activation='softmax'))\n",
        "\n",
        "# Step 5: Compile the model\n",
        "model.compile(optimizer='adam',\n",
        "              loss='categorical_crossentropy',\n",
        "              metrics=['accuracy'])\n",
        "\n",
        "# Step 6: Train the model\n",
        "history = model.fit(train_images, train_labels, epochs=3, batch_size=64, validation_split=0.2)\n"
      ],
      "metadata": {
        "colab": {
          "base_uri": "https://localhost:8080/"
        },
        "id": "1p9bJh944x9e",
        "outputId": "1affd399-fad9-4fcc-9477-fa61c2e55e9f"
      },
      "execution_count": null,
      "outputs": [
        {
          "output_type": "stream",
          "name": "stdout",
          "text": [
            "Epoch 1/3\n",
            "\u001b[1m750/750\u001b[0m \u001b[32m━━━━━━━━━━━━━━━━━━━━\u001b[0m\u001b[37m\u001b[0m \u001b[1m75s\u001b[0m 96ms/step - accuracy: 0.8140 - loss: 0.5806 - val_accuracy: 0.9803 - val_loss: 0.0674\n",
            "Epoch 2/3\n",
            "\u001b[1m750/750\u001b[0m \u001b[32m━━━━━━━━━━━━━━━━━━━━\u001b[0m\u001b[37m\u001b[0m \u001b[1m57s\u001b[0m 76ms/step - accuracy: 0.9683 - loss: 0.1018 - val_accuracy: 0.9852 - val_loss: 0.0509\n",
            "Epoch 3/3\n",
            "\u001b[1m750/750\u001b[0m \u001b[32m━━━━━━━━━━━━━━━━━━━━\u001b[0m\u001b[37m\u001b[0m \u001b[1m78s\u001b[0m 70ms/step - accuracy: 0.9774 - loss: 0.0743 - val_accuracy: 0.9886 - val_loss: 0.0418\n"
          ]
        }
      ]
    },
    {
      "cell_type": "code",
      "source": [
        "# Evaluate the model on test data\n",
        "test_loss, test_acc = model.evaluate(test_images, test_labels)\n",
        "\n",
        "print(f\"Test accuracy: {test_acc}\")\n"
      ],
      "metadata": {
        "colab": {
          "base_uri": "https://localhost:8080/"
        },
        "id": "anKLOZlHefFp",
        "outputId": "aa8713ce-209d-4d4b-ced8-30dd327b8438"
      },
      "execution_count": null,
      "outputs": [
        {
          "output_type": "stream",
          "name": "stdout",
          "text": [
            "\u001b[1m313/313\u001b[0m \u001b[32m━━━━━━━━━━━━━━━━━━━━\u001b[0m\u001b[37m\u001b[0m \u001b[1m5s\u001b[0m 17ms/step - accuracy: 0.9865 - loss: 0.0418\n",
            "Test accuracy: 0.9884999990463257\n"
          ]
        }
      ]
    },
    {
      "cell_type": "code",
      "source": [
        "import matplotlib.pyplot as plt\n",
        "\n",
        "# Assume test_images is already loaded and preprocessed (normalized and reshaped)\n",
        "# Display the first test image\n",
        "plt.imshow(test_images[300].reshape(28, 28), cmap='gray')\n",
        "plt.title('First Test Image')\n",
        "plt.show()\n"
      ],
      "metadata": {
        "colab": {
          "base_uri": "https://localhost:8080/",
          "height": 452
        },
        "id": "0C6VOQOyhFHO",
        "outputId": "6f7ae7db-0f53-4c01-a0f2-75763640d856"
      },
      "execution_count": null,
      "outputs": [
        {
          "output_type": "display_data",
          "data": {
            "text/plain": [
              "<Figure size 640x480 with 1 Axes>"
            ],
            "image/png": "[encoded data removed]"
          },
          "metadata": {}
        }
      ]
    },
    {
      "cell_type": "code",
      "source": [
        "# Make predictions\n",
        "predictions = model.predict(test_images)\n",
        "\n",
        "# Example: Get the predicted class for the first test image\n",
        "predicted_class = predictions[300].argmax()\n",
        "print(f\"Predicted class: {predicted_class}\")\n"
      ],
      "metadata": {
        "colab": {
          "base_uri": "https://localhost:8080/"
        },
        "id": "y5HbvyB0fR-F",
        "outputId": "59c57c88-90ce-4f80-ca15-664065afa05f"
      },
      "execution_count": null,
      "outputs": [
        {
          "output_type": "stream",
          "name": "stdout",
          "text": [
            "\u001b[1m313/313\u001b[0m \u001b[32m━━━━━━━━━━━━━━━━━━━━\u001b[0m\u001b[37m\u001b[0m \u001b[1m7s\u001b[0m 22ms/step\n",
            "Predicted class: 4\n"
          ]
        }
      ]
    },
    {
      "cell_type": "code",
      "source": [
        "import numpy as np\n",
        "import matplotlib.pyplot as plt\n",
        "from PIL import Image\n",
        "from tensorflow.keras.preprocessing import image\n",
        "\n",
        "def preprocess_image(img_path):\n",
        "    \"\"\"\n",
        "    Preprocess the uploaded image to match the input format for the model.\n",
        "    \"\"\"\n",
        "    # Load the image\n",
        "    img = Image.open(img_path).convert('L')  # Convert to grayscale\n",
        "    img = img.resize((28, 28))  # Resize to 28x28 pixels\n",
        "\n",
        "    # Convert to a numpy array\n",
        "    img_array = np.array(img)\n",
        "\n",
        "    # Normalize the pixel values (0 to 1)\n",
        "    img_array = img_array.astype('float32') / 255.0\n",
        "\n",
        "    # Reshape to match the model's input shape (28, 28, 1)\n",
        "    img_array = img_array.reshape(1, 28, 28, 1)\n",
        "\n",
        "    return img_array\n",
        "\n",
        "def predict_uploaded_image(img_path):\n",
        "    \"\"\"\n",
        "    Predict the digit from an uploaded image.\n",
        "    \"\"\"\n",
        "    # Preprocess the image\n",
        "    processed_image = preprocess_image(img_path)\n",
        "\n",
        "    # Make a prediction\n",
        "    prediction = model.predict(processed_image)\n",
        "\n",
        "    # Get the predicted class (digit)\n",
        "    predicted_class = np.argmax(prediction)\n",
        "\n",
        "    # Show the uploaded image\n",
        "    plt.imshow(Image.open(img_path), cmap='gray')\n",
        "    plt.title(f'Predicted Class: {predicted_class}')\n",
        "    plt.show()\n",
        "\n",
        "    return predicted_class\n",
        "\n",
        "# Example usage: Add the path to the image you want to predict\n",
        "img_path = '/content/drive/MyDrive/mini project/pixilart-drawing.png'  # Replace with the actual image path\n",
        "predicted_class = predict_uploaded_image(img_path)\n",
        "print(f\"Model prediction: {predicted_class}\")\n"
      ],
      "metadata": {
        "colab": {
          "base_uri": "https://localhost:8080/",
          "height": 489
        },
        "id": "4fRH7Fbsl3dZ",
        "outputId": "515e13c6-892f-4d56-c9ec-25bea6076efd"
      },
      "execution_count": null,
      "outputs": [
        {
          "output_type": "stream",
          "name": "stdout",
          "text": [
            "\u001b[1m1/1\u001b[0m \u001b[32m━━━━━━━━━━━━━━━━━━━━\u001b[0m\u001b[37m\u001b[0m \u001b[1m0s\u001b[0m 36ms/step\n"
          ]
        },
        {
          "output_type": "display_data",
          "data": {
            "text/plain": [
              "<Figure size 640x480 with 1 Axes>"
            ],
            "image/png": "[encoded data removed]"
          },
          "metadata": {}
        },
        {
          "output_type": "stream",
          "name": "stdout",
          "text": [
            "Model prediction: 2\n"
          ]
        }
      ]
    }
  ]
}